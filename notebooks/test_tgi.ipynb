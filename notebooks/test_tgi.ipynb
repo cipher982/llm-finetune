{
 "cells": [
  {
   "cell_type": "code",
   "execution_count": 4,
   "metadata": {},
   "outputs": [
    {
     "name": "stdout",
     "output_type": "stream",
     "text": [
      "\n",
      "\n",
      "Answer: ```json\n",
      "{\n",
      "    \"dimensions\": \"engagement_week\",\n",
      "    \"metrics\": \"conversions\",\n",
      "    \"sort_direction\": \"descending\"\n",
      "}\n",
      "```\n",
      "\n",
      "```json\n",
      "\n"
     ]
    }
   ],
   "source": [
    "from text_generation import Client\n",
    "\n",
    "# Generate\n",
    "client = Client(\"http://localhost:8089\")\n",
    "print(client.generate(\"How many conversions did I have last week?\", max_new_tokens=50).generated_text)"
   ]
  }
 ],
 "metadata": {
  "kernelspec": {
   "display_name": "dolly2",
   "language": "python",
   "name": "python3"
  },
  "language_info": {
   "codemirror_mode": {
    "name": "ipython",
    "version": 3
   },
   "file_extension": ".py",
   "mimetype": "text/x-python",
   "name": "python",
   "nbconvert_exporter": "python",
   "pygments_lexer": "ipython3",
   "version": "3.9.16"
  },
  "orig_nbformat": 4
 },
 "nbformat": 4,
 "nbformat_minor": 2
}
