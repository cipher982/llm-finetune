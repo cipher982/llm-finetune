{
 "cells": [
  {
   "cell_type": "code",
   "execution_count": 2,
   "metadata": {},
   "outputs": [],
   "source": [
    "import json"
   ]
  },
  {
   "cell_type": "code",
   "execution_count": 25,
   "metadata": {},
   "outputs": [],
   "source": [
    "# Declare the dataset paths \n",
    "rel_path = \"../data/aug_4838_20230803/\"\n",
    "input_file = rel_path + \"augmented.jsonl\"\n",
    "\n",
    "# Load the jsonl file\n",
    "data = []\n",
    "with open(input_file, 'r') as f:\n",
    "    for line in f:\n",
    "        lined_loaded = json.loads(line)\n",
    "\n",
    "        # Extract question\n",
    "        question = lined_loaded[\"question\"]\n",
    "\n",
    "        # Extract answer as dict\n",
    "        answer = lined_loaded[\"answer\"].strip('```json\\n').rstrip('```')\n",
    "        answer = json.loads(answer)\n",
    "\n",
    "        # Extract answer as tokenized string\n",
    "        dim = \"<DIM>\" + answer[\"dimensions\"]\n",
    "        met = \"<MET>\" + answer[\"metrics\"]\n",
    "        asc = \"<ASC>\" + str(int(answer[\"sort_direction\"] == \"ascending\"))\n",
    "        tok_str = \"\\t\".join([dim, met, asc])\n",
    "\n",
    "        assert len(tok_str.split(\"\\n\")) == 3\n",
    "        assert len(tok_str) > 10\n",
    "\n",
    "        data.append({\n",
    "            \"question\": question,\n",
    "            \"answer\": answer,\n",
    "            \"tok_str\": tok_str\n",
    "        })\n",
    "\n",
    "# Save list of dicts as a json-lines file\n",
    "output_file = rel_path + \"augmented_tok.jsonl\"\n",
    "with open(output_file, 'w') as f:\n",
    "    for line in data:\n",
    "        json.dump(line, f)\n",
    "        f.write('\\n')"
   ]
  }
 ],
 "metadata": {
  "kernelspec": {
   "display_name": "dolly2",
   "language": "python",
   "name": "python3"
  },
  "language_info": {
   "codemirror_mode": {
    "name": "ipython",
    "version": 3
   },
   "file_extension": ".py",
   "mimetype": "text/x-python",
   "name": "python",
   "nbconvert_exporter": "python",
   "pygments_lexer": "ipython3",
   "version": "3.10.12"
  },
  "orig_nbformat": 4
 },
 "nbformat": 4,
 "nbformat_minor": 2
}
